{
 "cells": [
  {
   "cell_type": "code",
   "execution_count": 19,
   "metadata": {},
   "outputs": [],
   "source": [
    "import pandas as pd\n",
    "import numpy as np\n",
    "import random as rd\n",
    "\n",
    "import matplotlib.pyplot as plt\n",
    "import seaborn as sns"
   ]
  },
  {
   "cell_type": "code",
   "execution_count": 20,
   "metadata": {},
   "outputs": [],
   "source": [
    "# define the number of samples\n",
    "n_samples = 100000"
   ]
  },
  {
   "cell_type": "code",
   "execution_count": 21,
   "metadata": {},
   "outputs": [],
   "source": [
    "# define the box\n",
    "x_min = 0\n",
    "x_max = 10\n",
    "\n",
    "y_min = 0\n",
    "y_max = 10"
   ]
  },
  {
   "cell_type": "code",
   "execution_count": 22,
   "metadata": {},
   "outputs": [],
   "source": [
    "# create a dataframe with the positions of the 2 points in the box\n",
    "coordinates = pd.DataFrame({\n",
    "    \"spot_1_x\": [rd.uniform(x_min, x_max) for _ in range(n_samples)],\n",
    "    \"spot_1_y\": [rd.uniform(y_min, y_max) for _ in range(n_samples)],\n",
    "    \"spot_2_x\": [rd.uniform(x_min, x_max) for _ in range(n_samples)],\n",
    "    \"spot_2_y\": [rd.uniform(y_min, y_max) for _ in range(n_samples)],\n",
    "})\n"
   ]
  },
  {
   "cell_type": "code",
   "execution_count": 23,
   "metadata": {},
   "outputs": [],
   "source": [
    "coordinates[\"dist_x0\"] = coordinates[\"spot_1_x\"]\n",
    "coordinates[\"dist_xmax\"] = x_max - coordinates[\"spot_1_x\"]\n",
    "coordinates[\"dist_y0\"] = coordinates[\"spot_1_y\"]\n",
    "coordinates[\"dist_ymax\"] = y_max - coordinates[\"spot_1_y\"]\n",
    "\n",
    "\n",
    "coordinates[\"nearest_side\"] = np.argmin(\n",
    "    coordinates[[\"dist_x0\", \"dist_xmax\", \"dist_y0\", \"dist_ymax\"]].values, axis=1\n",
    ")\n",
    "\n",
    "side_labels = {0: \"x=0\", 1: \"x=x_max\", 2: \"y=0\", 3: \"y=y_max\"}\n",
    "coordinates[\"nearest_side\"] = coordinates[\"nearest_side\"].map(side_labels)\n",
    "\n",
    "# Drop intermediate distance columns if no longer needed\n",
    "coordinates.drop(columns=[\"dist_x0\", \"dist_xmax\", \"dist_y0\", \"dist_ymax\"], inplace=True)\n"
   ]
  },
  {
   "cell_type": "code",
   "execution_count": 24,
   "metadata": {},
   "outputs": [],
   "source": [
    "coordinates[\"middle_point_x\"] = (coordinates[\"spot_1_x\"]+coordinates[\"spot_2_x\"])/2\n",
    "coordinates[\"middle_point_y\"] = (coordinates[\"spot_1_y\"]+coordinates[\"spot_2_y\"])/2\n",
    "\n",
    "coordinates[\"grad_between_points\"] = (coordinates[\"spot_1_y\"]-coordinates[\"spot_2_y\"])/(coordinates[\"spot_1_x\"]-coordinates[\"spot_2_x\"])\n",
    "\n",
    "coordinates[\"inverse_grad\"] = -1/coordinates[\"grad_between_points\"]\n"
   ]
  },
  {
   "cell_type": "code",
   "execution_count": 25,
   "metadata": {},
   "outputs": [
    {
     "name": "stdout",
     "output_type": "stream",
     "text": [
      "0.48723693686484754\n"
     ]
    },
    {
     "name": "stderr",
     "output_type": "stream",
     "text": [
      "C:\\Users\\james\\AppData\\Local\\Temp\\ipykernel_16848\\390747933.py:4: SettingWithCopyWarning: \n",
      "A value is trying to be set on a copy of a slice from a DataFrame.\n",
      "Try using .loc[row_indexer,col_indexer] = value instead\n",
      "\n",
      "See the caveats in the documentation: https://pandas.pydata.org/pandas-docs/stable/user_guide/indexing.html#returning-a-view-versus-a-copy\n",
      "  coordinates_x_0[\"intercept_point\"] = coordinates_x_0[\"inverse_grad\"]*(-1)*coordinates_x_0[\"middle_point_x\"] + coordinates_x_0[\"middle_point_y\"]\n"
     ]
    }
   ],
   "source": [
    "coordinates_x_0 = coordinates[coordinates[\"nearest_side\"] == \"x=0\"]\n",
    "\n",
    "# Use y-y_1 = m(x-x_1) to find the y intercept (y) where x = 0, m = inverse_grad, (x_1,y_1) is the midpoint.\n",
    "coordinates_x_0[\"intercept_point\"] = coordinates_x_0[\"inverse_grad\"]*(-1)*coordinates_x_0[\"middle_point_x\"] + coordinates_x_0[\"middle_point_y\"]\n",
    "\n",
    "num_rows = coordinates_x_0.shape[0]\n",
    "\n",
    "\n",
    "valid_points = coordinates_x_0[\n",
    "    (coordinates_x_0[\"intercept_point\"] < y_max) &\n",
    "    (coordinates_x_0[\"intercept_point\"] >= y_min)\n",
    "]\n",
    "\n",
    "num_valid = valid_points.shape[0]\n",
    "\n",
    "prob = num_valid / num_rows\n",
    "\n",
    "print(prob)"
   ]
  }
 ],
 "metadata": {
  "kernelspec": {
   "display_name": "Python 3",
   "language": "python",
   "name": "python3"
  },
  "language_info": {
   "codemirror_mode": {
    "name": "ipython",
    "version": 3
   },
   "file_extension": ".py",
   "mimetype": "text/x-python",
   "name": "python",
   "nbconvert_exporter": "python",
   "pygments_lexer": "ipython3",
   "version": "3.11.0"
  }
 },
 "nbformat": 4,
 "nbformat_minor": 2
}
