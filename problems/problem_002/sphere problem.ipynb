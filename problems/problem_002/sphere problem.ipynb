{
 "cells": [
  {
   "cell_type": "code",
   "execution_count": null,
   "id": "2940df01",
   "metadata": {},
   "outputs": [],
   "source": [
    "import pandas as pd\n",
    "import numpy as np\n",
    "# import random as rd\n",
    "\n",
    "import matplotlib.pyplot as plt\n",
    "# import seaborn as sns"
   ]
  },
  {
   "cell_type": "code",
   "execution_count": null,
   "id": "f41081bc",
   "metadata": {},
   "outputs": [],
   "source": [
    "def points_generator(n_tests):\n",
    "    azimuth = np.random.uniform(min = 0, max = 2*np.pi(), size = (n_tests,1))\n",
    "    polar = np.random.uniform(min = 0, max = np.pi(), size = (n_tests,1))\n",
    "    coordinates = np.vstack((azimuth, polar))\n",
    "    return coordinates\n"
   ]
  },
  {
   "cell_type": "code",
   "execution_count": 4,
   "id": "49fb0290",
   "metadata": {},
   "outputs": [
    {
     "ename": "NameError",
     "evalue": "name 'pi' is not defined",
     "output_type": "error",
     "traceback": [
      "\u001b[31m---------------------------------------------------------------------------\u001b[39m",
      "\u001b[31mNameError\u001b[39m                                 Traceback (most recent call last)",
      "\u001b[36mCell\u001b[39m\u001b[36m \u001b[39m\u001b[32mIn[4]\u001b[39m\u001b[32m, line 1\u001b[39m\n\u001b[32m----> \u001b[39m\u001b[32m1\u001b[39m \u001b[43mpoints_generator\u001b[49m\u001b[43m(\u001b[49m\u001b[32;43m10\u001b[39;49m\u001b[43m)\u001b[49m\n",
      "\u001b[36mCell\u001b[39m\u001b[36m \u001b[39m\u001b[32mIn[3]\u001b[39m\u001b[32m, line 2\u001b[39m, in \u001b[36mpoints_generator\u001b[39m\u001b[34m(n_tests)\u001b[39m\n\u001b[32m      1\u001b[39m \u001b[38;5;28;01mdef\u001b[39;00m\u001b[38;5;250m \u001b[39m\u001b[34mpoints_generator\u001b[39m(n_tests):\n\u001b[32m----> \u001b[39m\u001b[32m2\u001b[39m     azimuth = np.random.uniform(\u001b[38;5;28mmin\u001b[39m = \u001b[32m0\u001b[39m, \u001b[38;5;28mmax\u001b[39m = \u001b[32m2\u001b[39m*\u001b[43mpi\u001b[49m(), size = (n_tests,\u001b[32m1\u001b[39m))\n\u001b[32m      3\u001b[39m     polar = np.random.uniform(\u001b[38;5;28mmin\u001b[39m = \u001b[32m0\u001b[39m, \u001b[38;5;28mmax\u001b[39m = pi(), size = (n_tests,\u001b[32m1\u001b[39m))\n\u001b[32m      4\u001b[39m     coordinates = np.vstack((azimuth, polar))\n",
      "\u001b[31mNameError\u001b[39m: name 'pi' is not defined"
     ]
    }
   ],
   "source": [
    "points_generator(10)"
   ]
  }
 ],
 "metadata": {
  "kernelspec": {
   "display_name": "Python 3",
   "language": "python",
   "name": "python3"
  },
  "language_info": {
   "codemirror_mode": {
    "name": "ipython",
    "version": 3
   },
   "file_extension": ".py",
   "mimetype": "text/x-python",
   "name": "python",
   "nbconvert_exporter": "python",
   "pygments_lexer": "ipython3",
   "version": "3.11.0"
  }
 },
 "nbformat": 4,
 "nbformat_minor": 5
}
