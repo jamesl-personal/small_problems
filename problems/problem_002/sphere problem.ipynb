{
 "cells": [
  {
   "cell_type": "code",
   "execution_count": 11,
   "id": "955fdc73",
   "metadata": {},
   "outputs": [],
   "source": [
    "import numpy as np\n",
    "from itertools import combinations\n"
   ]
  },
  {
   "cell_type": "code",
   "execution_count": 12,
   "id": "11540721",
   "metadata": {},
   "outputs": [],
   "source": [
    "n_samples = 1000000"
   ]
  },
  {
   "cell_type": "code",
   "execution_count": 13,
   "id": "426cbd21",
   "metadata": {},
   "outputs": [
    {
     "name": "stdout",
     "output_type": "stream",
     "text": [
      "[[[2.9194577  5.99568608]\n",
      "  [0.25419009 1.08123607]\n",
      "  [1.76713938 3.57149096]\n",
      "  ...\n",
      "  [2.52773786 2.04124133]\n",
      "  [1.16702624 5.54651572]\n",
      "  [1.65394787 5.80297998]]\n",
      "\n",
      " [[1.82451997 4.19560079]\n",
      "  [2.99844925 3.84398332]\n",
      "  [1.77014902 1.50784701]\n",
      "  ...\n",
      "  [3.08601045 6.09145591]\n",
      "  [1.44653793 2.08911218]\n",
      "  [0.15402917 4.65114918]]\n",
      "\n",
      " [[2.69504742 6.11352495]\n",
      "  [0.88296889 1.75928888]\n",
      "  [1.20528014 2.10250726]\n",
      "  ...\n",
      "  [0.31215341 4.90581603]\n",
      "  [2.96675263 1.57475711]\n",
      "  [0.53225828 3.94688867]]\n",
      "\n",
      " [[2.33900233 5.50561157]\n",
      "  [1.08033994 5.33936919]\n",
      "  [0.56905824 4.51701561]\n",
      "  ...\n",
      "  [0.79700475 6.07438226]\n",
      "  [1.13840089 4.12896393]\n",
      "  [1.60645766 0.91358313]]]\n"
     ]
    }
   ],
   "source": [
    "def generate_random_array(n):\n",
    "    \"\"\"\n",
    "    Generate a 4 x n x 2 array where:\n",
    "    - For each of the 4 sets:\n",
    "      - Column 0: values between 0 and pi\n",
    "      - Column 1: values between 0 and 2*pi\n",
    "    \"\"\"\n",
    "    col1 = np.random.uniform(0, np.pi, (4, n))\n",
    "    col2 = np.random.uniform(0, 2 * np.pi, (4, n))\n",
    "    return np.stack((col1, col2), axis=-1)\n",
    "\n",
    "array = generate_random_array(n_samples)\n",
    "print(array)\n"
   ]
  },
  {
   "cell_type": "code",
   "execution_count": 14,
   "id": "9fb98c50",
   "metadata": {},
   "outputs": [
    {
     "name": "stdout",
     "output_type": "stream",
     "text": [
      "[[[ 2.11270108e-01 -6.24707416e-02 -9.75429315e-01]\n",
      "  [ 1.18246766e-01  2.21924861e-01  9.67867273e-01]\n",
      "  [-8.91542951e-01 -4.08770615e-01 -1.95083956e-01]\n",
      "  ...\n",
      "  [-2.61101323e-01  5.13447493e-01 -8.17433649e-01]\n",
      "  [ 6.81146886e-01 -6.17800862e-01  3.92888044e-01]\n",
      "  [ 8.83835763e-01 -4.60365167e-01 -8.30557518e-02]]\n",
      "\n",
      " [[-4.78271743e-01 -8.41575938e-01 -2.51010120e-01]\n",
      "  [-1.08888601e-01 -9.21615004e-02 -9.89772464e-01]\n",
      "  [ 6.16618579e-02  9.78253546e-01 -1.98034885e-01]\n",
      "  ...\n",
      "  [ 5.45356313e-02 -1.05861186e-02 -9.98455707e-01]\n",
      "  [-4.91598152e-01  8.61957313e-01  1.23938885e-01]\n",
      "  [-9.38958961e-03 -1.53133242e-01  9.88160941e-01]]\n",
      "\n",
      " [[ 4.25651649e-01 -7.29171870e-02 -9.01944432e-01]\n",
      "  [-1.44773603e-01  7.58942199e-01  6.34860097e-01]\n",
      "  [-4.73515494e-01  8.05000530e-01  3.57431425e-01]\n",
      "  ...\n",
      "  [ 5.90334011e-02 -3.01381493e-01  9.51674447e-01]\n",
      "  [-6.88978913e-04  1.73949240e-01 -9.84754379e-01]\n",
      "  [-3.51632144e-01 -3.65911607e-01  8.61663236e-01]]\n",
      "\n",
      " [[ 5.12485051e-01 -5.04527350e-01 -6.94846189e-01]\n",
      "  [ 5.17540388e-01 -7.14341710e-01  4.71028522e-01]\n",
      "  [-1.04606321e-01 -5.28587665e-01  8.42408807e-01]\n",
      "  ...\n",
      "  [ 6.99730295e-01 -1.48266852e-01  6.98852241e-01]\n",
      "  [-5.00184636e-01 -7.57769732e-01  4.19046971e-01]\n",
      "  [ 6.10524505e-01  7.91194437e-01 -3.56537746e-02]]]\n"
     ]
    }
   ],
   "source": [
    "def spherical_to_cartesian(spherical_array):\n",
    "    \"\"\"\n",
    "    Convert a 4 x n x 2 array of spherical coordinates (theta, phi) with radius=1\n",
    "    to a 4 x n x 3 array of Cartesian coordinates (x, y, z).\n",
    "    \"\"\"\n",
    "    theta = spherical_array[..., 0]  # polar angle\n",
    "    phi = spherical_array[..., 1]    # azimuthal angle\n",
    "    r = 1.0\n",
    "\n",
    "    x = r * np.sin(theta) * np.cos(phi)\n",
    "    y = r * np.sin(theta) * np.sin(phi)\n",
    "    z = r * np.cos(theta)\n",
    "\n",
    "    return np.stack((x, y, z), axis=-1)\n",
    "\n",
    "# Example usage:\n",
    "cartesian_array = spherical_to_cartesian(array)\n",
    "print(cartesian_array)\n"
   ]
  },
  {
   "cell_type": "code",
   "execution_count": 15,
   "id": "a9897705",
   "metadata": {},
   "outputs": [
    {
     "name": "stdout",
     "output_type": "stream",
     "text": [
      "[[ 0.16778377 -0.3703728  -0.70580751]\n",
      " [ 0.09553124  0.04359096  0.27099586]\n",
      " [-0.35200073  0.21147395  0.20168035]\n",
      " ...\n",
      " [ 0.1380495   0.01330326 -0.04134067]\n",
      " [-0.07783122 -0.08491601 -0.01222012]\n",
      " [ 0.28333463 -0.04705389  0.43277866]]\n"
     ]
    }
   ],
   "source": [
    "def compute_centroids(cartesian_array):\n",
    "    \"\"\"\n",
    "    Compute the centroid of each set of 4 coordinates in a 4 x n x 3 array.\n",
    "    Returns an n x 3 array of centroids.\n",
    "    \"\"\"\n",
    "    return np.mean(cartesian_array, axis=0)\n",
    "\n",
    "# Example usage:\n",
    "centroids = compute_centroids(cartesian_array)\n",
    "print(centroids)\n"
   ]
  },
  {
   "cell_type": "code",
   "execution_count": 16,
   "id": "c840a9d7",
   "metadata": {},
   "outputs": [
    {
     "name": "stdout",
     "output_type": "stream",
     "text": [
      "[[[-1.81122737e-01  9.22238615e-01  7.01512298e-01 ... -8.65188958e-01\n",
      "   -7.86303357e-01  3.18259357e-01]\n",
      "  [ 7.50860583e-01  3.50472384e-01 -4.80981597e-01 ... -4.96249537e-01\n",
      "   -6.16868688e-01 -8.07327007e-01]\n",
      "  [ 6.35140094e-01 -1.63233099e-01  5.25868044e-01 ... -7.20032191e-02\n",
      "    3.46417781e-02  4.96924627e-01]]\n",
      "\n",
      " [[ 1.48107371e-01 -8.68668686e-01  6.77736179e-01 ... -7.87348918e-01\n",
      "    5.47599522e-04 -7.80021927e-01]\n",
      "  [ 5.99945734e-01 -4.63402615e-01 -4.66969144e-01 ... -5.61880935e-01\n",
      "    1.79242569e-01 -1.47304573e-01]\n",
      "  [ 7.86212009e-01  1.75136321e-01 -5.67990748e-01 ...  2.53715386e-01\n",
      "    9.83804758e-01 -6.08167047e-01]]\n",
      "\n",
      " [[ 2.85525652e-01 -9.08843598e-01  7.96774571e-01 ... -4.82824961e-02\n",
      "   -8.83044906e-02 -6.09152337e-01]\n",
      "  [-3.67296601e-01 -4.14129923e-01  6.57705414e-04 ...  9.03879899e-01\n",
      "    8.44120244e-01 -1.03243842e-01]\n",
      "  [-8.85193939e-01  4.99972077e-02 -6.04276304e-01 ...  4.25052854e-01\n",
      "    5.28832043e-01 -7.86304101e-01]]\n",
      "\n",
      " [[-2.28896255e-01  8.85009476e-01  5.86999814e-01 ... -1.75242326e-01\n",
      "   -9.26404904e-01  5.83429055e-01]\n",
      "  [-4.58168129e-01  4.20158372e-01  4.15143555e-01 ...  9.73699784e-01\n",
      "   -6.27322417e-02 -7.41713414e-01]\n",
      "  [-8.58887926e-01 -2.00562137e-01  6.95044636e-01 ...  1.45598278e-01\n",
      "   -3.71266238e-01 -3.30865153e-01]]]\n"
     ]
    }
   ],
   "source": [
    "def compute_plane_normals(cartesian_array):\n",
    "    \"\"\"\n",
    "    For each set of 4 points (shape: 4 x n x 3), compute the unit normals of the\n",
    "    4 planes formed by combinations of 3 points. Returns a 4 x 3 x n array.\n",
    "    \"\"\"\n",
    "    n = cartesian_array.shape[1]\n",
    "    normals = np.zeros((4, 3, n))\n",
    "\n",
    "    for i, combo in enumerate(combinations(range(4), 3)):\n",
    "        A = cartesian_array[combo[0]]  # shape: (n, 3)\n",
    "        B = cartesian_array[combo[1]]\n",
    "        C = cartesian_array[combo[2]]\n",
    "\n",
    "        AB = B - A\n",
    "        AC = C - A\n",
    "\n",
    "        normal = np.cross(AB, AC)  # shape: (n, 3)\n",
    "        norm = np.linalg.norm(normal, axis=1, keepdims=True)\n",
    "        unit_normal = normal / norm\n",
    "\n",
    "        normals[i] = unit_normal.T  # transpose to get shape (3, n)\n",
    "\n",
    "    return normals\n",
    "\n",
    "# Example usage:\n",
    "normals = compute_plane_normals(cartesian_array)\n",
    "print(normals)\n"
   ]
  },
  {
   "cell_type": "code",
   "execution_count": 17,
   "id": "7c2894d8",
   "metadata": {},
   "outputs": [
    {
     "name": "stdout",
     "output_type": "stream",
     "text": [
      "[[-0.7047069  -0.77308264  0.94671244  0.71064745]\n",
      " [ 0.02884229 -0.03604911 -0.15098288  0.06342101]\n",
      " [-0.53140562 -0.30254177 -0.59274299  0.30466807]\n",
      " ...\n",
      " [ 0.02996176 -0.29031401  0.12924899 -0.16523808]\n",
      " [-0.14087574  0.27616191 -0.37387476  0.3553321 ]\n",
      " [ 0.61168178 -0.57108561 -0.42555367 -0.2188452 ]]\n"
     ]
    }
   ],
   "source": [
    "def compute_plane_constants(cartesian_array, normals):\n",
    "    \"\"\"\n",
    "    Compute the constants d in the plane equation n·x = d for each of the 4 planes\n",
    "    per group of 4 points. Returns an n x 4 array.\n",
    "    \"\"\"\n",
    "    n = cartesian_array.shape[1]\n",
    "    constants = np.zeros((n, 4))\n",
    "\n",
    "    for i, combo in enumerate(combinations(range(4), 3)):\n",
    "        A = cartesian_array[combo[0]]  # shape: (n, 3)\n",
    "        n_vec = normals[i].T           # shape: (n, 3)\n",
    "        d = np.einsum('ij,ij->i', n_vec, A)  # dot product per row\n",
    "        constants[:, i] = d\n",
    "\n",
    "    return constants\n",
    "\n",
    "# Example usage:\n",
    "constants = compute_plane_constants(cartesian_array, normals)\n",
    "print(constants)\n"
   ]
  },
  {
   "cell_type": "code",
   "execution_count": 18,
   "id": "81b04231",
   "metadata": {},
   "outputs": [
    {
     "name": "stdout",
     "output_type": "stream",
     "text": [
      "[[-0.75677445 -0.75226791  0.80871977  0.73749749]\n",
      " [ 0.05914453 -0.05572394 -0.09132624  0.04850965]\n",
      " [-0.24259067 -0.45186801 -0.4021968   0.02134453]\n",
      " ...\n",
      " [-0.12306398 -0.12665674 -0.0122128  -0.01725787]\n",
      " [ 0.11315765 -0.0272854  -0.07126887  0.08196711]\n",
      " [ 0.34322015 -0.47727769 -0.50803157  0.05701478]]\n"
     ]
    }
   ],
   "source": [
    "def compute_centroid_dot_normals(centroids, normals):\n",
    "    \"\"\"\n",
    "    For each group (n groups), compute dot product of the centroid with each of the 4 unit normals.\n",
    "    Returns an n x 4 array.\n",
    "    \"\"\"\n",
    "    n = centroids.shape[0]\n",
    "    dot_values = np.zeros((n, 4))\n",
    "\n",
    "    for i in range(4):\n",
    "        n_vec = normals[i].T           # shape: (n, 3)\n",
    "        dot = np.einsum('ij,ij->i', n_vec, centroids)\n",
    "        dot_values[:, i] = dot\n",
    "\n",
    "    return dot_values\n",
    "\n",
    "# Example usage:\n",
    "dot_centroids = compute_centroid_dot_normals(centroids, normals)\n",
    "print(dot_centroids)\n"
   ]
  },
  {
   "cell_type": "code",
   "execution_count": 19,
   "id": "a7fe68c5",
   "metadata": {},
   "outputs": [
    {
     "name": "stdout",
     "output_type": "stream",
     "text": [
      "[[0 1 1 0]\n",
      " [0 0 1 1]\n",
      " [1 0 1 1]\n",
      " ...\n",
      " [1 1 1 1]\n",
      " [1 1 1 1]\n",
      " [1 1 0 1]]\n"
     ]
    }
   ],
   "source": [
    "def test_dot_vs_constants(dot_centroids, constants):\n",
    "    \"\"\"\n",
    "    For each value in dot_centroids and constants:\n",
    "    - If d > 0, return 1 if dot_cent < d, else 0\n",
    "    - If d < 0, return 1 if dot_cent > d, else 0\n",
    "    Returns an n x 4 array of 1s and 0s.\n",
    "    \"\"\"\n",
    "    result = np.where(constants > 0,\n",
    "                      dot_centroids < constants,\n",
    "                      dot_centroids > constants)\n",
    "    return result.astype(int)\n",
    "\n",
    "# Example usage:\n",
    "test_result = test_dot_vs_constants(dot_centroids, constants)\n",
    "print(test_result)\n"
   ]
  },
  {
   "cell_type": "code",
   "execution_count": 20,
   "id": "f5386306",
   "metadata": {},
   "outputs": [
    {
     "name": "stdout",
     "output_type": "stream",
     "text": [
      "[[0]\n",
      " [0]\n",
      " [0]\n",
      " ...\n",
      " [1]\n",
      " [1]\n",
      " [0]]\n"
     ]
    }
   ],
   "source": [
    "def reduce_to_single_flag(test_result):\n",
    "    \"\"\"\n",
    "    Reduce an n x 4 array to an n x 1 array:\n",
    "    - 1 if all 4 entries in the row are 1\n",
    "    - 0 otherwise\n",
    "    \"\"\"\n",
    "    return np.all(test_result == 1, axis=1).astype(int).reshape(-1, 1)\n",
    "\n",
    "# Example usage:\n",
    "final_result = reduce_to_single_flag(test_result)\n",
    "print(final_result)\n"
   ]
  },
  {
   "cell_type": "code",
   "execution_count": 21,
   "id": "4c8cf4f6",
   "metadata": {},
   "outputs": [
    {
     "name": "stdout",
     "output_type": "stream",
     "text": [
      "0.125034\n"
     ]
    }
   ],
   "source": [
    "def compute_average_flag_value(final_result):\n",
    "    \"\"\"\n",
    "    Compute the average value of the final_result array (n x 1).\n",
    "    \"\"\"\n",
    "    return np.mean(final_result)\n",
    "\n",
    "# Example usage:\n",
    "average_value = compute_average_flag_value(final_result)\n",
    "print(average_value)\n"
   ]
  }
 ],
 "metadata": {
  "kernelspec": {
   "display_name": "Python 3",
   "language": "python",
   "name": "python3"
  },
  "language_info": {
   "codemirror_mode": {
    "name": "ipython",
    "version": 3
   },
   "file_extension": ".py",
   "mimetype": "text/x-python",
   "name": "python",
   "nbconvert_exporter": "python",
   "pygments_lexer": "ipython3",
   "version": "3.11.0"
  }
 },
 "nbformat": 4,
 "nbformat_minor": 5
}
